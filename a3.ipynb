{
 "cells": [
  {
   "cell_type": "markdown",
   "metadata": {},
   "source": [
    "第三張 流程控制"
   ]
  },
  {
   "cell_type": "code",
   "execution_count": 1,
   "metadata": {},
   "outputs": [
    {
     "name": "stdout",
     "output_type": "stream",
     "text": [
      "請輸入攝氏溫度:30\n",
      "華氏溫度是: 54.0\n"
     ]
    }
   ],
   "source": [
    "celsius = input(\"請輸入攝氏溫度:\")\n",
    "fahrenheit = 9/5 * int(celsius)\n",
    "print(\"華氏溫度是:\",fahrenheit)"
   ]
  },
  {
   "cell_type": "code",
   "execution_count": 2,
   "metadata": {},
   "outputs": [
    {
     "name": "stdout",
     "output_type": "stream",
     "text": [
      "樣本: [5, 6, 8, 7, 4, 1, 2, 3, 9, 6]\n",
      "平均值: 5.1\n",
      "最大值: 9\n",
      "最小值: 1\n",
      "變異值: 6.77\n",
      "標準差: 2.6\n"
     ]
    }
   ],
   "source": [
    "import statistics as st\n",
    "sample=[5,6,8,7,4,1,2,3,9,6]\n",
    "print(\"樣本:\", sample)\n",
    "print(\"平均值:\", st.mean(sample))\n",
    "print(\"最大值:\", max(sample))\n",
    "print(\"最小值:\", min(sample))\n",
    "print(\"變異值:\", round(st.variance(sample),2))\n",
    "print(\"標準差:\", round(st.stdev(sample),2))"
   ]
  },
  {
   "cell_type": "code",
   "execution_count": 3,
   "metadata": {},
   "outputs": [
    {
     "name": "stdout",
     "output_type": "stream",
     "text": [
      "b數字比較大\n"
     ]
    }
   ],
   "source": [
    "a=3\n",
    "b=4\n",
    "if a<=b:\n",
    "    print(\"b數字比較大\")\n",
    "else:\n",
    "    print(\"a數字比較大\")"
   ]
  },
  {
   "cell_type": "code",
   "execution_count": 5,
   "metadata": {},
   "outputs": [
    {
     "name": "stdout",
     "output_type": "stream",
     "text": [
      "總和為: 55\n"
     ]
    }
   ],
   "source": [
    "sum=0\n",
    "for count in range(1,11,1):   #1-10\n",
    "#for count in range(11):     #0-10\n",
    "    #sum=sum+count\n",
    "    sum+=count\n",
    "print(\"總和為:\",sum)"
   ]
  },
  {
   "cell_type": "code",
   "execution_count": 6,
   "metadata": {},
   "outputs": [
    {
     "name": "stdout",
     "output_type": "stream",
     "text": [
      "l\n",
      "i\n",
      "s\n",
      "t\n",
      " \n",
      "s\n",
      "t\n",
      "a\n",
      "t\n",
      "e\n",
      "m\n",
      "e\n",
      "n\n",
      "t\n",
      "end\n"
     ]
    }
   ],
   "source": [
    "mylist=\"list statement\"\n",
    "for word in mylist:\n",
    "    print(word)\n",
    "else:\n",
    "    print(\"end\")"
   ]
  },
  {
   "cell_type": "code",
   "execution_count": null,
   "metadata": {},
   "outputs": [],
   "source": []
  }
 ],
 "metadata": {
  "kernelspec": {
   "display_name": "Python 3",
   "language": "python",
   "name": "python3"
  },
  "language_info": {
   "codemirror_mode": {
    "name": "ipython",
    "version": 3
   },
   "file_extension": ".py",
   "mimetype": "text/x-python",
   "name": "python",
   "nbconvert_exporter": "python",
   "pygments_lexer": "ipython3",
   "version": "3.6.4"
  }
 },
 "nbformat": 4,
 "nbformat_minor": 2
}
